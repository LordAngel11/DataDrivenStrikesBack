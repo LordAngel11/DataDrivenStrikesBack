{
 "cells": [
  {
   "cell_type": "code",
   "execution_count": 1,
   "metadata": {},
   "outputs": [],
   "source": [
    "# Core libs\n",
    "import pandas as pd\n",
    "import numpy as np\n",
    "\n",
    "# Graphic libs\n",
    "import plotly.express as px\n",
    "import plotly.io as pio\n",
    "import matplotlib.pyplot as plt\n",
    "pio.renderers.default = \"browser\"\n",
    "\n",
    "# sklearn \n",
    "from sklearn.decomposition import PCA\n",
    "from sklearn.preprocessing import StandardScaler\n",
    "from sklearn.cluster import KMeans, DBSCAN\n",
    "\n",
    "#scipy kit\n",
    "from scipy.cluster.hierarchy import dendrogram, fcluster\n",
    "from scipy.spatial.distance import pdist"
   ]
  },
  {
   "cell_type": "code",
   "execution_count": 5,
   "metadata": {},
   "outputs": [],
   "source": [
    "log_data = pd.read_pickle('log_data_pak_full')\n",
    "\n",
    "pca = PCA(n_components=3)\n",
    "df_st =  StandardScaler().fit_transform(log_data)\n",
    "pca_out = pca.fit(df_st)\n",
    "pca_transformer = pca.transform\n",
    "components = pca.fit_transform(df_st)\n",
    "\n",
    "linkage_data = np.load('hirarchy_model.npy')"
   ]
  },
  {
   "cell_type": "code",
   "execution_count": 7,
   "metadata": {},
   "outputs": [],
   "source": [
    "#clusters = fcluster(linkage_data, 1.1547005383792515)\n",
    "clusters = DBSCAN(eps = 0.3).fit(components)\n",
    "clusters = [str(key) for key in clusters.labels_]\n",
    "\n",
    "total_var = pca.explained_variance_ratio_.sum() * 100\n",
    "\n",
    "fig = px.scatter_3d(\n",
    "    components, x=0, y=1, z=2, color=log_data['Área Construcción'],\n",
    "    title=f'Total Explained Variance: {total_var:.2f}%',\n",
    "    labels={'0': 'PC 1', '1': 'PC 2', '2': 'PC 3'},\n",
    ")\n",
    "fig.update_traces(marker_size = 1)\n",
    "\n",
    "fig.show()"
   ]
  },
  {
   "cell_type": "code",
   "execution_count": 4,
   "metadata": {},
   "outputs": [],
   "source": [
    "pca_2 = PCA(n_components=2)\n",
    "df_st =  StandardScaler().fit_transform(components)\n",
    "pca_out_2 = pca_2.fit(df_st)\n",
    "components_2 = pca_2.fit_transform(df_st)"
   ]
  },
  {
   "cell_type": "code",
   "execution_count": 12,
   "metadata": {},
   "outputs": [],
   "source": [
    "#clusters = KMeans(n_clusters=13).fit(components_2)\n",
    "#clusters = fcluster(linkage_data, 1.1547005383792515)\n",
    "#clusters = DBSCAN().fit()\n",
    "\n",
    "clusters = DBSCAN(eps = 0.6, min_samples=100).fit(components)\n",
    "clusters = [str(key) for key in clusters.labels_]\n",
    "\n",
    "total_var = pca_2.explained_variance_ratio_.sum() * 100\n",
    "\n",
    "fig = px.scatter(\n",
    "    #components_2, x=0, y=1, color=log_data['Valor comercial (USD)'],\n",
    "    components_2, x=0, y=1, color=clusters,\n",
    "    title=f'Total Explained Variance: {total_var:.2f}%',\n",
    "    labels={'0': 'PC 1', '1': 'PC 2', '2': 'PC 3'},\n",
    ")\n",
    "fig.update_traces(marker_size = 1)\n",
    "\n",
    "fig.show()"
   ]
  },
  {
   "cell_type": "code",
   "execution_count": 5,
   "metadata": {},
   "outputs": [
    {
     "name": "stderr",
     "output_type": "stream",
     "text": [
      "2022-10-22 06:40:52.462207: I tensorflow/core/platform/cpu_feature_guard.cc:193] This TensorFlow binary is optimized with oneAPI Deep Neural Network Library (oneDNN) to use the following CPU instructions in performance-critical operations:  AVX2 FMA\n",
      "To enable them in other operations, rebuild TensorFlow with the appropriate compiler flags.\n",
      "2022-10-22 06:40:52.620863: E tensorflow/stream_executor/cuda/cuda_blas.cc:2981] Unable to register cuBLAS factory: Attempting to register factory for plugin cuBLAS when one has already been registered\n",
      "2022-10-22 06:40:53.208786: W tensorflow/stream_executor/platform/default/dso_loader.cc:64] Could not load dynamic library 'libnvinfer.so.7'; dlerror: libnvinfer.so.7: cannot open shared object file: No such file or directory\n",
      "2022-10-22 06:40:53.208845: W tensorflow/stream_executor/platform/default/dso_loader.cc:64] Could not load dynamic library 'libnvinfer_plugin.so.7'; dlerror: libnvinfer_plugin.so.7: cannot open shared object file: No such file or directory\n",
      "2022-10-22 06:40:53.208852: W tensorflow/compiler/tf2tensorrt/utils/py_utils.cc:38] TF-TRT Warning: Cannot dlopen some TensorRT libraries. If you would like to use Nvidia GPU with TensorRT, please make sure the missing libraries mentioned above are installed properly.\n"
     ]
    }
   ],
   "source": [
    "import tensorflow as tf\n",
    "from keras import optimizers\n",
    "from keras.models import Model\n",
    "from keras.layers import Input, Lambda, Dropout, BatchNormalization, Activation, Dense\n",
    "from keras.layers.merging import Add, Concatenate\n",
    "from keras.utils import plot_model"
   ]
  },
  {
   "cell_type": "code",
   "execution_count": 6,
   "metadata": {},
   "outputs": [
    {
     "data": {
      "text/plain": [
       "7.553183953795418"
      ]
     },
     "execution_count": 6,
     "metadata": {},
     "output_type": "execute_result"
    }
   ],
   "source": [
    "log_data['Valor comercial (USD)'].max()"
   ]
  },
  {
   "cell_type": "code",
   "execution_count": 7,
   "metadata": {},
   "outputs": [
    {
     "data": {
      "text/plain": [
       "array([[-0.25049918, -0.65919807,  0.58870169],\n",
       "       [ 0.08921403, -0.45394378,  0.6871101 ],\n",
       "       [-0.64231704, -0.84000948,  0.40804177],\n",
       "       ...,\n",
       "       [-0.98868778,  0.75942328,  0.02638232],\n",
       "       [-0.10360631, -0.61426205,  0.71234044],\n",
       "       [-1.73342472,  2.49666437, -0.67305099]])"
      ]
     },
     "execution_count": 7,
     "metadata": {},
     "output_type": "execute_result"
    }
   ],
   "source": [
    "components"
   ]
  },
  {
   "cell_type": "code",
   "execution_count": 8,
   "metadata": {},
   "outputs": [],
   "source": [
    "X_train = components.copy()\n",
    "Y_train = log_data['Valor comercial (USD)'].to_numpy()"
   ]
  },
  {
   "cell_type": "code",
   "execution_count": 9,
   "metadata": {},
   "outputs": [
    {
     "name": "stderr",
     "output_type": "stream",
     "text": [
      "2022-10-22 06:41:01.424998: I tensorflow/stream_executor/cuda/cuda_gpu_executor.cc:980] successful NUMA node read from SysFS had negative value (-1), but there must be at least one NUMA node, so returning NUMA node zero\n",
      "2022-10-22 06:41:01.485811: I tensorflow/stream_executor/cuda/cuda_gpu_executor.cc:980] successful NUMA node read from SysFS had negative value (-1), but there must be at least one NUMA node, so returning NUMA node zero\n",
      "2022-10-22 06:41:01.486011: I tensorflow/stream_executor/cuda/cuda_gpu_executor.cc:980] successful NUMA node read from SysFS had negative value (-1), but there must be at least one NUMA node, so returning NUMA node zero\n",
      "2022-10-22 06:41:01.486411: I tensorflow/core/platform/cpu_feature_guard.cc:193] This TensorFlow binary is optimized with oneAPI Deep Neural Network Library (oneDNN) to use the following CPU instructions in performance-critical operations:  AVX2 FMA\n",
      "To enable them in other operations, rebuild TensorFlow with the appropriate compiler flags.\n",
      "2022-10-22 06:41:01.487087: I tensorflow/stream_executor/cuda/cuda_gpu_executor.cc:980] successful NUMA node read from SysFS had negative value (-1), but there must be at least one NUMA node, so returning NUMA node zero\n",
      "2022-10-22 06:41:01.487327: I tensorflow/stream_executor/cuda/cuda_gpu_executor.cc:980] successful NUMA node read from SysFS had negative value (-1), but there must be at least one NUMA node, so returning NUMA node zero\n",
      "2022-10-22 06:41:01.487554: I tensorflow/stream_executor/cuda/cuda_gpu_executor.cc:980] successful NUMA node read from SysFS had negative value (-1), but there must be at least one NUMA node, so returning NUMA node zero\n",
      "2022-10-22 06:41:01.973410: I tensorflow/stream_executor/cuda/cuda_gpu_executor.cc:980] successful NUMA node read from SysFS had negative value (-1), but there must be at least one NUMA node, so returning NUMA node zero\n",
      "2022-10-22 06:41:01.973638: I tensorflow/stream_executor/cuda/cuda_gpu_executor.cc:980] successful NUMA node read from SysFS had negative value (-1), but there must be at least one NUMA node, so returning NUMA node zero\n",
      "2022-10-22 06:41:01.973830: I tensorflow/stream_executor/cuda/cuda_gpu_executor.cc:980] successful NUMA node read from SysFS had negative value (-1), but there must be at least one NUMA node, so returning NUMA node zero\n",
      "2022-10-22 06:41:01.973968: I tensorflow/core/common_runtime/gpu/gpu_device.cc:1616] Created device /job:localhost/replica:0/task:0/device:GPU:0 with 1860 MB memory:  -> device: 0, name: NVIDIA GeForce GTX 1650 SUPER, pci bus id: 0000:08:00.0, compute capability: 7.5\n"
     ]
    }
   ],
   "source": [
    "Xin = Input(shape=(3,),name='transformed_input')\n",
    "X = Dense(15, activation='relu', name='hidden_1')(Xin)\n",
    "X = Dense(10, activation='relu', name='hidden_2')(X)\n",
    "X = Dense(5, activation='relu', name='hidden_3')(X)\n",
    "\n",
    "Yout = Dense(1, activation='softplus', name='predictor')(X)\n"
   ]
  },
  {
   "cell_type": "code",
   "execution_count": 10,
   "metadata": {},
   "outputs": [],
   "source": [
    "S4D_gumbo = Model(inputs = Xin, outputs = [Yout], name = 'S4DGumbo')"
   ]
  },
  {
   "cell_type": "code",
   "execution_count": 33,
   "metadata": {},
   "outputs": [],
   "source": [
    "def mape_accuracy(y_true, y_pred):\n",
    "    correct = tf.reduce_sum(tf.cast(tf.abs(tf.divide(tf.subtract(y_true,y_pred),y_true)) < 0.1, tf.int16), axis=1)\n",
    "    total = y_true.shape[1]\n",
    "\n",
    "    return correct/total"
   ]
  },
  {
   "cell_type": "code",
   "execution_count": 34,
   "metadata": {},
   "outputs": [],
   "source": [
    "epochs     = 5         # número de epocas\n",
    "batch_size = 20        # tamaño del lote\n",
    "alpha      = 0.0001    # razon de aprendizaje\n",
    "decay      = 0.0001    # decaimiento de alpha\n",
    "\n",
    "S4D_gumbo.compile(optimizer = optimizers.Adam(learning_rate=alpha, decay=decay),\n",
    "                  loss      = tf.keras.losses.mean_absolute_percentage_error,\n",
    "                  metrics   = [mape_accuracy])\n",
    "\n"
   ]
  },
  {
   "cell_type": "code",
   "execution_count": 35,
   "metadata": {},
   "outputs": [
    {
     "name": "stdout",
     "output_type": "stream",
     "text": [
      "Epoch 1/5\n",
      "1705/1705 [==============================] - 7s 4ms/step - loss: 54.8418 - mape_accuracy: 0.1197 - val_loss: 13.0996 - val_mape_accuracy: 0.5781\n",
      "Epoch 2/5\n",
      "1705/1705 [==============================] - 6s 4ms/step - loss: 11.0332 - mape_accuracy: 0.6391 - val_loss: 9.3646 - val_mape_accuracy: 0.6715\n",
      "Epoch 3/5\n",
      "1705/1705 [==============================] - 6s 4ms/step - loss: 7.8946 - mape_accuracy: 0.7238 - val_loss: 6.4852 - val_mape_accuracy: 0.8020\n",
      "Epoch 4/5\n",
      "1705/1705 [==============================] - 6s 4ms/step - loss: 5.1648 - mape_accuracy: 0.8853 - val_loss: 4.0941 - val_mape_accuracy: 0.9404\n",
      "Epoch 5/5\n",
      "1705/1705 [==============================] - 6s 3ms/step - loss: 3.5996 - mape_accuracy: 0.9517 - val_loss: 3.3015 - val_mape_accuracy: 0.9579\n"
     ]
    }
   ],
   "source": [
    "history = S4D_gumbo.fit(x                = X_train,\n",
    "                        y                = Y_train,\n",
    "                        batch_size       = batch_size,\n",
    "                        epochs           = epochs,\n",
    "                        validation_split = 0.2,\n",
    "                        verbose          = 1)"
   ]
  },
  {
   "cell_type": "code",
   "execution_count": 36,
   "metadata": {},
   "outputs": [
    {
     "name": "stdout",
     "output_type": "stream",
     "text": [
      "dict_keys(['loss', 'mape_accuracy', 'val_loss', 'val_mape_accuracy'])\n"
     ]
    }
   ],
   "source": [
    "print(history.history.keys())"
   ]
  },
  {
   "cell_type": "code",
   "execution_count": 39,
   "metadata": {},
   "outputs": [
    {
     "data": {
      "image/png": "[encoded data removed]",
      "text/plain": [
       "<Figure size 640x480 with 1 Axes>"
      ]
     },
     "metadata": {},
     "output_type": "display_data"
    },
    {
     "data": {
      "image/png": "[encoded data removed]",
      "text/plain": [
       "<Figure size 640x480 with 1 Axes>"
      ]
     },
     "metadata": {},
     "output_type": "display_data"
    }
   ],
   "source": [
    "plt.plot(history.history['mape_accuracy'])\n",
    "plt.plot(history.history['val_mape_accuracy'])\n",
    "plt.title('model accuracy')\n",
    "plt.ylabel('accuracy')\n",
    "plt.xlabel('epoch')\n",
    "plt.legend(['train', 'test'], loc='upper left')\n",
    "plt.show()\n",
    "plt.plot(history.history['loss'])\n",
    "plt.plot(history.history['val_loss'])\n",
    "plt.title('model loss')\n",
    "plt.ylabel('loss')\n",
    "plt.xlabel('epoch')\n",
    "plt.legend(['train', 'test'], loc='upper left')\n",
    "plt.show()"
   ]
  },
  {
   "cell_type": "code",
   "execution_count": null,
   "metadata": {},
   "outputs": [],
   "source": []
  }
 ],
 "metadata": {
  "kernelspec": {
   "display_name": "Python 3.10.7 ('venv': venv)",
   "language": "python",
   "name": "python3"
  },
  "language_info": {
   "codemirror_mode": {
    "name": "ipython",
    "version": 3
   },
   "file_extension": ".py",
   "mimetype": "text/x-python",
   "name": "python",
   "nbconvert_exporter": "python",
   "pygments_lexer": "ipython3",
   "version": "3.10.7"
  },
  "orig_nbformat": 4,
  "vscode": {
   "interpreter": {
    "hash": "0198e78fcb23270f2f1a434797316f5c7d17439b897a09cc3cdde74d7b192a6e"
   }
  }
 },
 "nbformat": 4,
 "nbformat_minor": 2
}
