{
 "cells": [
  {
   "cell_type": "code",
   "execution_count": 59,
   "metadata": {},
   "outputs": [],
   "source": [
    "import pandas as pd\n",
    "import numpy as np\n",
    "from sklearn.decomposition import PCA\n",
    "from sklearn.preprocessing import StandardScaler\n",
    "import plotly.express as px\n",
    "import plotly.io as pio\n",
    "import plotly.graph_objects as go\n",
    "from scipy.cluster.hierarchy import dendrogram, linkage\n",
    "from scipy.spatial.distance import pdist\n",
    "import matplotlib.pyplot as plt\n",
    "import sys\n",
    "import seaborn as sns\n",
    "pio.renderers.default = \"browser\"\n",
    "\n",
    "sys.setrecursionlimit(10000)"
   ]
  },
  {
   "cell_type": "code",
   "execution_count": null,
   "metadata": {},
   "outputs": [],
   "source": [
    "group_key = {'A' : ['Arequipa', 'Huancavelica', 'Junín', 'Lima', 'Monquegua', 'Piura', 'San Martín'],\n",
    "             'B' : ['Ayacucho', 'Callao', 'Cusco', 'La Libertad', 'Lambayeque', 'Loreto', 'Pasco', 'Puno', 'Tacna', 'Tumbes', 'Ucayali'],\n",
    "             'C' : ['Amazonas', 'Madre de Dios']}\n",
    "\n",
    "group_mapping = {dep : key for key in ['A', 'B', 'C'] for dep in group_key[key] }\n",
    "distritos_arr = raw_data['Departamento'].to_numpy()\n",
    "\n",
    "groups = []\n",
    "for dep in distritos_arr:\n",
    "    try:\n",
    "        groups.append(group_mapping[dep])\n",
    "    except:\n",
    "        groups.append('X')\n",
    "#something = distritos_arr.\n",
    "#something"
   ]
  },
  {
   "cell_type": "code",
   "execution_count": 2,
   "metadata": {},
   "outputs": [],
   "source": [
    "raw_data = pd.read_excel('../data/xlsx/ord80p.xlsx', header = [0], index_col=None)\n",
    "log_data = pd.read_excel('../data/xlsx/ordfinal80.xlsx', header = [0], index_col=None)\n",
    "#log_data = log_data.drop(['Latitud (Decimal)','Longitud (Decimal)','Departamento','Provincia','Distrito'], axis = 1)\n",
    "#raw_data = raw_data.drop(['ranva'], axis=1).fillna(0.0)"
   ]
  },
  {
   "cell_type": "code",
   "execution_count": 101,
   "metadata": {},
   "outputs": [
    {
     "name": "stdout",
     "output_type": "stream",
     "text": [
      "['0: Fecha entrega del Informe', '1: Tipo de vía', '2: Piso', '3: Departamento', '4: Provincia', '5: Distrito', '6: Número de estacionamiento', '7: Depósitos', '8: Latitud (Decimal)', '9: Longitud (Decimal)', '10: Categoría del bien', '11: Posición', '12: Número de frentes', '13: Edad', '14: Elevador', '15: Estado de conservación', '16: Método Representado', '17: Área Terreno', '18: Área Construcción', '19: Valor comercial (USD)', '20: ranva']\n"
     ]
    }
   ],
   "source": [
    "print([ str(i)+': '+item for i, item in enumerate(list(raw_data.columns))])"
   ]
  },
  {
   "cell_type": "code",
   "execution_count": 3,
   "metadata": {},
   "outputs": [
    {
     "data": {
      "text/html": [
       "<div>\n",
       "<style scoped>\n",
       "    .dataframe tbody tr th:only-of-type {\n",
       "        vertical-align: middle;\n",
       "    }\n",
       "\n",
       "    .dataframe tbody tr th {\n",
       "        vertical-align: top;\n",
       "    }\n",
       "\n",
       "    .dataframe thead th {\n",
       "        text-align: right;\n",
       "    }\n",
       "</style>\n",
       "<table border=\"1\" class=\"dataframe\">\n",
       "  <thead>\n",
       "    <tr style=\"text-align: right;\">\n",
       "      <th></th>\n",
       "      <th>FechadelInforme</th>\n",
       "      <th>TipodeVia</th>\n",
       "      <th>Piso</th>\n",
       "      <th>Estacionamiento</th>\n",
       "      <th>Depositos</th>\n",
       "      <th>Categoriadelbien</th>\n",
       "      <th>Posicion</th>\n",
       "      <th>Numerodefrentes</th>\n",
       "      <th>Edad</th>\n",
       "      <th>Elevador</th>\n",
       "      <th>Estadodeconservacion</th>\n",
       "      <th>MetodoRepresentado</th>\n",
       "      <th>Areaterreno</th>\n",
       "      <th>Areaconstruccion</th>\n",
       "      <th>Valorcomercial</th>\n",
       "    </tr>\n",
       "  </thead>\n",
       "  <tbody>\n",
       "    <tr>\n",
       "      <th>0</th>\n",
       "      <td>4.642247</td>\n",
       "      <td>0.477121</td>\n",
       "      <td>-5.0</td>\n",
       "      <td>-5.0</td>\n",
       "      <td>-5.0</td>\n",
       "      <td>0.000000</td>\n",
       "      <td>-5.0</td>\n",
       "      <td>-5.0</td>\n",
       "      <td>1.176091</td>\n",
       "      <td>-5.0</td>\n",
       "      <td>0.602060</td>\n",
       "      <td>0.00000</td>\n",
       "      <td>1.875061</td>\n",
       "      <td>2.277609</td>\n",
       "      <td>5.229444</td>\n",
       "    </tr>\n",
       "    <tr>\n",
       "      <th>1</th>\n",
       "      <td>4.636207</td>\n",
       "      <td>0.477121</td>\n",
       "      <td>-5.0</td>\n",
       "      <td>-5.0</td>\n",
       "      <td>-5.0</td>\n",
       "      <td>0.301030</td>\n",
       "      <td>-5.0</td>\n",
       "      <td>-5.0</td>\n",
       "      <td>0.698970</td>\n",
       "      <td>-5.0</td>\n",
       "      <td>0.602060</td>\n",
       "      <td>0.30103</td>\n",
       "      <td>1.104487</td>\n",
       "      <td>1.972527</td>\n",
       "      <td>5.205305</td>\n",
       "    </tr>\n",
       "    <tr>\n",
       "      <th>2</th>\n",
       "      <td>4.639417</td>\n",
       "      <td>0.301030</td>\n",
       "      <td>-5.0</td>\n",
       "      <td>-5.0</td>\n",
       "      <td>-5.0</td>\n",
       "      <td>0.477121</td>\n",
       "      <td>-5.0</td>\n",
       "      <td>-5.0</td>\n",
       "      <td>1.204120</td>\n",
       "      <td>-5.0</td>\n",
       "      <td>0.477121</td>\n",
       "      <td>0.00000</td>\n",
       "      <td>2.204120</td>\n",
       "      <td>2.649724</td>\n",
       "      <td>5.469184</td>\n",
       "    </tr>\n",
       "    <tr>\n",
       "      <th>3</th>\n",
       "      <td>4.638829</td>\n",
       "      <td>0.477121</td>\n",
       "      <td>-5.0</td>\n",
       "      <td>0.0</td>\n",
       "      <td>-5.0</td>\n",
       "      <td>0.301030</td>\n",
       "      <td>-5.0</td>\n",
       "      <td>-5.0</td>\n",
       "      <td>0.000000</td>\n",
       "      <td>-5.0</td>\n",
       "      <td>0.301030</td>\n",
       "      <td>0.30103</td>\n",
       "      <td>0.595496</td>\n",
       "      <td>1.932271</td>\n",
       "      <td>5.096037</td>\n",
       "    </tr>\n",
       "    <tr>\n",
       "      <th>4</th>\n",
       "      <td>4.645550</td>\n",
       "      <td>0.000000</td>\n",
       "      <td>-5.0</td>\n",
       "      <td>-5.0</td>\n",
       "      <td>-5.0</td>\n",
       "      <td>0.301030</td>\n",
       "      <td>-5.0</td>\n",
       "      <td>-5.0</td>\n",
       "      <td>-5.000000</td>\n",
       "      <td>-5.0</td>\n",
       "      <td>0.000000</td>\n",
       "      <td>0.00000</td>\n",
       "      <td>1.778151</td>\n",
       "      <td>1.440594</td>\n",
       "      <td>4.371086</td>\n",
       "    </tr>\n",
       "  </tbody>\n",
       "</table>\n",
       "</div>"
      ],
      "text/plain": [
       "   FechadelInforme  TipodeVia  Piso  Estacionamiento  Depositos  \\\n",
       "0         4.642247   0.477121  -5.0             -5.0       -5.0   \n",
       "1         4.636207   0.477121  -5.0             -5.0       -5.0   \n",
       "2         4.639417   0.301030  -5.0             -5.0       -5.0   \n",
       "3         4.638829   0.477121  -5.0              0.0       -5.0   \n",
       "4         4.645550   0.000000  -5.0             -5.0       -5.0   \n",
       "\n",
       "   Categoriadelbien  Posicion  Numerodefrentes      Edad  Elevador  \\\n",
       "0          0.000000      -5.0             -5.0  1.176091      -5.0   \n",
       "1          0.301030      -5.0             -5.0  0.698970      -5.0   \n",
       "2          0.477121      -5.0             -5.0  1.204120      -5.0   \n",
       "3          0.301030      -5.0             -5.0  0.000000      -5.0   \n",
       "4          0.301030      -5.0             -5.0 -5.000000      -5.0   \n",
       "\n",
       "   Estadodeconservacion  MetodoRepresentado  Areaterreno  Areaconstruccion  \\\n",
       "0              0.602060             0.00000     1.875061          2.277609   \n",
       "1              0.602060             0.30103     1.104487          1.972527   \n",
       "2              0.477121             0.00000     2.204120          2.649724   \n",
       "3              0.301030             0.30103     0.595496          1.932271   \n",
       "4              0.000000             0.00000     1.778151          1.440594   \n",
       "\n",
       "   Valorcomercial  \n",
       "0        5.229444  \n",
       "1        5.205305  \n",
       "2        5.469184  \n",
       "3        5.096037  \n",
       "4        4.371086  "
      ]
     },
     "execution_count": 3,
     "metadata": {},
     "output_type": "execute_result"
    }
   ],
   "source": [
    "#log_data.to_pickle('../data/pak/log_data_pack_bigger')\n",
    "log_data.head()"
   ]
  },
  {
   "cell_type": "code",
   "execution_count": 90,
   "metadata": {},
   "outputs": [],
   "source": [
    "features = ['Fecha entrega del Informe', \n",
    "            'Tipo de vía', \n",
    "            'Piso', \n",
    "            'Número de estacionamiento',\n",
    "            'Depósitos',\n",
    "            'Categoría del bien',\n",
    "            'Posición', \n",
    "            'Número de frentes', \n",
    "            'Edad', \n",
    "            'Elevador',\n",
    "            'Estado de conservación', \n",
    "            'Método Representado', \n",
    "            'Área Terreno',\n",
    "            'Área Construcción']"
   ]
  },
  {
   "cell_type": "code",
   "execution_count": 91,
   "metadata": {},
   "outputs": [],
   "source": [
    "data = raw_data[features[:1]].copy()\n",
    "data = data.applymap(lambda x : float(x.replace(',','')) if isinstance(x,str) else x)\n",
    "\n",
    "log_raw = data.applymap(lambda x : np.log10(x + 0.0000001) if isinstance(x,float) else x)"
   ]
  },
  {
   "cell_type": "code",
   "execution_count": 4,
   "metadata": {},
   "outputs": [],
   "source": [
    "pca = PCA()\n",
    "df_st =  StandardScaler().fit_transform(log_data)\n",
    "pca_out = pca.fit(df_st)\n",
    "components = pca.fit_transform(df_st)"
   ]
  },
  {
   "cell_type": "code",
   "execution_count": 6,
   "metadata": {},
   "outputs": [
    {
     "data": {
      "image/png": "[encoded data removed]",
      "text/plain": [
       "<Figure size 640x480 with 1 Axes>"
      ]
     },
     "metadata": {},
     "output_type": "display_data"
    }
   ],
   "source": [
    "y = pdist(components,'euclidean')\n",
    "linkage_data = linkage(y, method='single', metric='euclidean')\n",
    "dendrogram(linkage_data, count_sort=True)\n",
    "\n",
    "plt.show()"
   ]
  },
  {
   "cell_type": "code",
   "execution_count": 23,
   "metadata": {},
   "outputs": [],
   "source": [
    "from sklearn.cluster import KMeans\n",
    "from scipy.cluster.hierarchy import fcluster\n",
    "\n",
    "#culsters = KMeans(n_clusters=7).fit(components)"
   ]
  },
  {
   "cell_type": "code",
   "execution_count": 29,
   "metadata": {},
   "outputs": [],
   "source": [
    "#type(linkage_data)\n",
    "np.save('hirarchy_model', linkage_data)"
   ]
  },
  {
   "cell_type": "code",
   "execution_count": 118,
   "metadata": {},
   "outputs": [],
   "source": [
    "log_data_2 = log_data.drop(['Piso', 'Depositos'], axis=1)\n",
    "\n",
    "log_data_2.to_pickle('../data/pak/log_data_final')"
   ]
  },
  {
   "cell_type": "code",
   "execution_count": 102,
   "metadata": {},
   "outputs": [],
   "source": [
    "pca = PCA(n_components=8)\n",
    "#df_st =  StandardScaler().fit_transform(log_data)\n",
    "pca_out = pca.fit(log_data_2)\n",
    "components = pca.fit_transform(log_data_2)"
   ]
  },
  {
   "cell_type": "code",
   "execution_count": 117,
   "metadata": {},
   "outputs": [
    {
     "name": "stderr",
     "output_type": "stream",
     "text": [
      "/home/ric/Documents/Code/hackathonBBVA/venv/lib/python3.10/site-packages/sklearn/base.py:450: UserWarning:\n",
      "\n",
      "X does not have valid feature names, but PCA was fitted with feature names\n",
      "\n"
     ]
    },
    {
     "ename": "ValueError",
     "evalue": "X has 12 features, but PCA is expecting 13 features as input.",
     "output_type": "error",
     "traceback": [
      "\u001b[0;31m---------------------------------------------------------------------------\u001b[0m",
      "\u001b[0;31mValueError\u001b[0m                                Traceback (most recent call last)",
      "Cell \u001b[0;32mIn [117], line 6\u001b[0m\n\u001b[1;32m      3\u001b[0m dato_ais \u001b[39m=\u001b[39m log_data_2\u001b[39m.\u001b[39miloc[\u001b[39m123\u001b[39m]\u001b[39m.\u001b[39mto_numpy()\n\u001b[1;32m      4\u001b[0m dato_ais \u001b[39m=\u001b[39m dato_ais[:\u001b[39m12\u001b[39m]\n\u001b[0;32m----> 6\u001b[0m compont2 \u001b[39m=\u001b[39m pca\u001b[39m.\u001b[39;49mtransform([dato_ais])\n",
      "File \u001b[0;32m~/Documents/Code/hackathonBBVA/venv/lib/python3.10/site-packages/sklearn/decomposition/_base.py:120\u001b[0m, in \u001b[0;36m_BasePCA.transform\u001b[0;34m(self, X)\u001b[0m\n\u001b[1;32m    101\u001b[0m \u001b[39m\"\"\"Apply dimensionality reduction to X.\u001b[39;00m\n\u001b[1;32m    102\u001b[0m \n\u001b[1;32m    103\u001b[0m \u001b[39mX is projected on the first principal components previously extracted\u001b[39;00m\n\u001b[0;32m   (...)\u001b[0m\n\u001b[1;32m    116\u001b[0m \u001b[39m    is the number of samples and `n_components` is the number of the components.\u001b[39;00m\n\u001b[1;32m    117\u001b[0m \u001b[39m\"\"\"\u001b[39;00m\n\u001b[1;32m    118\u001b[0m check_is_fitted(\u001b[39mself\u001b[39m)\n\u001b[0;32m--> 120\u001b[0m X \u001b[39m=\u001b[39m \u001b[39mself\u001b[39;49m\u001b[39m.\u001b[39;49m_validate_data(X, dtype\u001b[39m=\u001b[39;49m[np\u001b[39m.\u001b[39;49mfloat64, np\u001b[39m.\u001b[39;49mfloat32], reset\u001b[39m=\u001b[39;49m\u001b[39mFalse\u001b[39;49;00m)\n\u001b[1;32m    121\u001b[0m \u001b[39mif\u001b[39;00m \u001b[39mself\u001b[39m\u001b[39m.\u001b[39mmean_ \u001b[39mis\u001b[39;00m \u001b[39mnot\u001b[39;00m \u001b[39mNone\u001b[39;00m:\n\u001b[1;32m    122\u001b[0m     X \u001b[39m=\u001b[39m X \u001b[39m-\u001b[39m \u001b[39mself\u001b[39m\u001b[39m.\u001b[39mmean_\n",
      "File \u001b[0;32m~/Documents/Code/hackathonBBVA/venv/lib/python3.10/site-packages/sklearn/base.py:600\u001b[0m, in \u001b[0;36mBaseEstimator._validate_data\u001b[0;34m(self, X, y, reset, validate_separately, **check_params)\u001b[0m\n\u001b[1;32m    597\u001b[0m     out \u001b[39m=\u001b[39m X, y\n\u001b[1;32m    599\u001b[0m \u001b[39mif\u001b[39;00m \u001b[39mnot\u001b[39;00m no_val_X \u001b[39mand\u001b[39;00m check_params\u001b[39m.\u001b[39mget(\u001b[39m\"\u001b[39m\u001b[39mensure_2d\u001b[39m\u001b[39m\"\u001b[39m, \u001b[39mTrue\u001b[39;00m):\n\u001b[0;32m--> 600\u001b[0m     \u001b[39mself\u001b[39;49m\u001b[39m.\u001b[39;49m_check_n_features(X, reset\u001b[39m=\u001b[39;49mreset)\n\u001b[1;32m    602\u001b[0m \u001b[39mreturn\u001b[39;00m out\n",
      "File \u001b[0;32m~/Documents/Code/hackathonBBVA/venv/lib/python3.10/site-packages/sklearn/base.py:400\u001b[0m, in \u001b[0;36mBaseEstimator._check_n_features\u001b[0;34m(self, X, reset)\u001b[0m\n\u001b[1;32m    397\u001b[0m     \u001b[39mreturn\u001b[39;00m\n\u001b[1;32m    399\u001b[0m \u001b[39mif\u001b[39;00m n_features \u001b[39m!=\u001b[39m \u001b[39mself\u001b[39m\u001b[39m.\u001b[39mn_features_in_:\n\u001b[0;32m--> 400\u001b[0m     \u001b[39mraise\u001b[39;00m \u001b[39mValueError\u001b[39;00m(\n\u001b[1;32m    401\u001b[0m         \u001b[39mf\u001b[39m\u001b[39m\"\u001b[39m\u001b[39mX has \u001b[39m\u001b[39m{\u001b[39;00mn_features\u001b[39m}\u001b[39;00m\u001b[39m features, but \u001b[39m\u001b[39m{\u001b[39;00m\u001b[39mself\u001b[39m\u001b[39m.\u001b[39m\u001b[39m__class__\u001b[39m\u001b[39m.\u001b[39m\u001b[39m__name__\u001b[39m\u001b[39m}\u001b[39;00m\u001b[39m \u001b[39m\u001b[39m\"\u001b[39m\n\u001b[1;32m    402\u001b[0m         \u001b[39mf\u001b[39m\u001b[39m\"\u001b[39m\u001b[39mis expecting \u001b[39m\u001b[39m{\u001b[39;00m\u001b[39mself\u001b[39m\u001b[39m.\u001b[39mn_features_in_\u001b[39m}\u001b[39;00m\u001b[39m features as input.\u001b[39m\u001b[39m\"\u001b[39m\n\u001b[1;32m    403\u001b[0m     )\n",
      "\u001b[0;31mValueError\u001b[0m: X has 12 features, but PCA is expecting 13 features as input."
     ]
    }
   ],
   "source": [
    "#log_data_2.iloc[123]\n",
    "\n",
    "dato_ais = log_data_2.iloc[123].to_numpy()\n",
    "dato_ais = dato_ais[:12]\n",
    "\n",
    "compont2 = pca.transform([dato_ais])"
   ]
  },
  {
   "cell_type": "code",
   "execution_count": 100,
   "metadata": {},
   "outputs": [
    {
     "data": {
      "text/plain": [
       "(42604, 13)"
      ]
     },
     "execution_count": 100,
     "metadata": {},
     "output_type": "execute_result"
    }
   ],
   "source": [
    "components.shape"
   ]
  },
  {
   "cell_type": "code",
   "execution_count": 115,
   "metadata": {},
   "outputs": [
    {
     "name": "stderr",
     "output_type": "stream",
     "text": [
      "/home/ric/Documents/Code/hackathonBBVA/venv/lib/python3.10/site-packages/plotly/express/_core.py:137: FutureWarning:\n",
      "\n",
      "Support for multi-dimensional indexing (e.g. `obj[:, None]`) is deprecated and will be removed in a future version.  Convert to a numpy array before indexing instead.\n",
      "\n"
     ]
    }
   ],
   "source": [
    "#components_df = pd.DataFrame(components[:,1:13], columns=['PC '+ str(i+1) + ' ' + '({:.2f}%)'.format(pca.explained_variance_ratio_[i]*100) for i in range(1,13)])\n",
    "#components_df.insert(0, 'Valorcomercial', log_data['Valorcomercial'].to_numpy())\n",
    "\n",
    "fig = px.scatter_matrix(raw_data.iloc[:,[0,1,6,10,11,12,13,14,15,16,17,18,19]].fillna(0.0),\n",
    "    #dimensions=['PC '+ str(i+1) + ' ' + '({:.2f}%)'.format(pca.explained_variance_ratio_[i]*100) for i in range(1,13)],\n",
    "    #color=\"Valor comercial (USD)\",\n",
    "    title=\"Scatter matrix of data set\",\n",
    "    labels=log_data.columns[[0,1,3,5,6,7,8,9,10,11,12,13,14]]) # remove underscore\n",
    "fig.update_traces(diagonal_visible=False)\n",
    "fig.update_traces(marker_size=1)\n",
    "\n",
    "fig.update_layout(font=dict(size=10))\n",
    "\n",
    "fig.update_layout({\"xaxis\"+str(i+1): dict(showticklabels = False, title=log_data.columns[i][:3].upper()) for i in range(15)})\n",
    "fig.update_layout({\"yaxis\"+str(i+1): dict(showticklabels = False, title=log_data.columns[i][:3].upper()) for i in range(15)})\n",
    "\n",
    "fig.update_layout(margin={\"r\":150,\"t\":20,\"l\":150,\"b\":20})\n",
    "fig.show()"
   ]
  },
  {
   "cell_type": "code",
   "execution_count": 116,
   "metadata": {},
   "outputs": [
    {
     "name": "stderr",
     "output_type": "stream",
     "text": [
      "/home/ric/Documents/Code/hackathonBBVA/venv/lib/python3.10/site-packages/plotly/express/_core.py:137: FutureWarning:\n",
      "\n",
      "Support for multi-dimensional indexing (e.g. `obj[:, None]`) is deprecated and will be removed in a future version.  Convert to a numpy array before indexing instead.\n",
      "\n"
     ]
    }
   ],
   "source": [
    "fig = px.scatter_matrix(log_data.iloc[:,[0,1,3,5,6,7,8,9,10,11,12,13,14]],\n",
    "    #dimensions=['PC '+ str(i+1) + ' ' + '({:.2f}%)'.format(pca.explained_variance_ratio_[i]*100) for i in range(1,13)],\n",
    "    #color=\"Valor comercial (USD)\",\n",
    "    title=\"Scatter matrix of data set\",\n",
    "    labels=log_data.columns[[0,1,3,5,6,7,8,9,10,11,12,13,14]]) # remove underscore\n",
    "fig.update_traces(diagonal_visible=False)\n",
    "fig.update_traces(marker_size=1)\n",
    "\n",
    "fig.update_layout(font=dict(size=10))\n",
    "\n",
    "fig.update_layout({\"xaxis\"+str(i+1): dict(showticklabels = False, title=log_data.columns[i][:3].upper()) for i in range(15)})\n",
    "fig.update_layout({\"yaxis\"+str(i+1): dict(showticklabels = False, title=log_data.columns[i][:3].upper()) for i in range(15)})\n",
    "\n",
    "\n",
    "fig.update_layout(margin={\"r\":150,\"t\":20,\"l\":150,\"b\":20})\n",
    "fig.show()"
   ]
  },
  {
   "cell_type": "code",
   "execution_count": 127,
   "metadata": {},
   "outputs": [],
   "source": [
    "#culsters = fcluster(linkage_data, 1.)\n",
    "#wierd = np.load('Clustering_W/clusters_labels.npy')\n",
    "\n",
    "fig = px.scatter_3d(\n",
    "    components, x=0, y=1, z=2, color=raw_data['Categoría del bien'],\n",
    "    labels={'0': 'PC 1', '1': 'PC 2', '2': 'PC 3'},\n",
    ")\n",
    "fig.update_traces(marker_size = 1)\n",
    "fig.update_layout(margin={\"r\":0,\"t\":0,\"l\":0,\"b\":0})\n",
    "\n",
    "fig.show()"
   ]
  },
  {
   "cell_type": "code",
   "execution_count": 40,
   "metadata": {},
   "outputs": [
    {
     "data": {
      "text/plain": [
       "(42604, 11)"
      ]
     },
     "execution_count": 40,
     "metadata": {},
     "output_type": "execute_result"
    }
   ],
   "source": [
    "components[:,2:13].shape\n",
    "#(components[:][2:11]).shape"
   ]
  },
  {
   "cell_type": "code",
   "execution_count": 119,
   "metadata": {},
   "outputs": [
    {
     "name": "stderr",
     "output_type": "stream",
     "text": [
      "/home/ric/Documents/Code/hackathonBBVA/venv/lib/python3.10/site-packages/plotly/express/_core.py:137: FutureWarning:\n",
      "\n",
      "Support for multi-dimensional indexing (e.g. `obj[:, None]`) is deprecated and will be removed in a future version.  Convert to a numpy array before indexing instead.\n",
      "\n"
     ]
    }
   ],
   "source": [
    "components_df = pd.DataFrame(components, columns=['PC'+str(i+1)+' ({:.1f})%'.format(pca.explained_variance_ratio_[i]*100) for i in range(15)])\n",
    "components_df.insert(0, 'Valorcomercial', log_data['Valorcomercial'].to_numpy())\n",
    "\n",
    "fig = px.scatter_matrix(components_df,\n",
    "    dimensions=['PC'+str(i+1)+' ({:.1f})%'.format(pca.explained_variance_ratio_[i]*100) for i in range(15)],\n",
    "    color=\"Valorcomercial\",\n",
    "    title=\"PCA Pairs plot\",\n",
    "    labels=components_df.columns) # remove underscore\n",
    "fig.update_traces(diagonal_visible=False)\n",
    "fig.update_traces(marker_size=1)\n",
    "\n",
    "fig.update_layout(font=dict(size=10))\n",
    "\n",
    "fig.update_layout({\"xaxis\"+str(i+1): dict(showticklabels = False) for i in range(15)})\n",
    "fig.update_layout({\"yaxis\"+str(i+1): dict(showticklabels = False, title='PC'+str(i+1)) for i in range(15)})\n",
    "\n",
    "\n",
    "fig.update_layout(margin={\"r\":150,\"t\":20,\"l\":150,\"b\":20})\n",
    "\n",
    "fig.show()"
   ]
  },
  {
   "cell_type": "code",
   "execution_count": 125,
   "metadata": {},
   "outputs": [
    {
     "name": "stderr",
     "output_type": "stream",
     "text": [
      "/home/ric/Documents/Code/hackathonBBVA/venv/lib/python3.10/site-packages/plotly/express/_core.py:137: FutureWarning:\n",
      "\n",
      "Support for multi-dimensional indexing (e.g. `obj[:, None]`) is deprecated and will be removed in a future version.  Convert to a numpy array before indexing instead.\n",
      "\n"
     ]
    }
   ],
   "source": [
    "components_df = pd.DataFrame(components[:,1:13], columns=['PC'+str(i+1)+' ({:.1f})%'.format(pca.explained_variance_ratio_[i]*100) for i in range(1,13)])\n",
    "components_df.insert(0, 'Valorcomercial', log_data['Valorcomercial'].to_numpy())\n",
    "\n",
    "fig = px.scatter_matrix(components_df,\n",
    "    dimensions=['PC'+str(i+1)+' ({:.1f})%'.format(pca.explained_variance_ratio_[i]*100) for i in range(1,13)],\n",
    "    color=raw_data['Categoría del bien'],\n",
    "    title=\"Reduced PCA Pairs plot\",\n",
    "    labels=components_df.columns) # remove underscore\n",
    "fig.update_traces(diagonal_visible=False)\n",
    "fig.update_traces(marker_size=1)\n",
    "\n",
    "fig.update_layout(font=dict(size=10))\n",
    "\n",
    "fig.update_layout({\"xaxis\"+str(i+1): dict(showticklabels = False) for i in range(15)})\n",
    "fig.update_layout({\"yaxis\"+str(i+1): dict(showticklabels = False, title='PC'+str(i+1)) for i in range(15)})\n",
    "\n",
    "\n",
    "fig.update_layout(margin={\"r\":150,\"t\":20,\"l\":150,\"b\":20})\n",
    "\n",
    "fig.show()"
   ]
  },
  {
   "cell_type": "code",
   "execution_count": 129,
   "metadata": {},
   "outputs": [],
   "source": [
    "#culsters = fcluster(linkage_data, 1.)\n",
    "#wierd = np.load('Clustering_W/clusters_labels.npy')\n",
    "\n",
    "fig = px.scatter_3d(\n",
    "    components, x=1, y=4, z=9, color=log_data['Valorcomercial'],\n",
    "    labels={'1': 'PC 2', '4': 'PC 5', '9': 'PC 10'},\n",
    ")\n",
    "fig.update_traces(marker_size = 1)\n",
    "fig.update_layout(margin={\"r\":0,\"t\":0,\"l\":0,\"b\":0})\n",
    "\n",
    "fig.show()"
   ]
  },
  {
   "cell_type": "code",
   "execution_count": 53,
   "metadata": {},
   "outputs": [
    {
     "ename": "ValueError",
     "evalue": "The truth value of a Series is ambiguous. Use a.empty, a.bool(), a.item(), a.any() or a.all().",
     "output_type": "error",
     "traceback": [
      "\u001b[0;31m---------------------------------------------------------------------------\u001b[0m",
      "\u001b[0;31mValueError\u001b[0m                                Traceback (most recent call last)",
      "Cell \u001b[0;32mIn [53], line 3\u001b[0m\n\u001b[1;32m      1\u001b[0m components_df \u001b[39m=\u001b[39m pd\u001b[39m.\u001b[39mDataFrame(components, columns\u001b[39m=\u001b[39m[\u001b[39m'\u001b[39m\u001b[39mPC \u001b[39m\u001b[39m'\u001b[39m\u001b[39m+\u001b[39m \u001b[39mstr\u001b[39m(i) \u001b[39m+\u001b[39m \u001b[39m'\u001b[39m\u001b[39m \u001b[39m\u001b[39m'\u001b[39m \u001b[39m+\u001b[39m \u001b[39m'\u001b[39m\u001b[39m(\u001b[39m\u001b[39m{:.2f}\u001b[39;00m\u001b[39m%\u001b[39m\u001b[39m)\u001b[39m\u001b[39m'\u001b[39m\u001b[39m.\u001b[39mformat(pca\u001b[39m.\u001b[39mexplained_variance_ratio_[i]\u001b[39m*\u001b[39m\u001b[39m100\u001b[39m) \u001b[39mfor\u001b[39;00m i \u001b[39min\u001b[39;00m \u001b[39mrange\u001b[39m(\u001b[39m15\u001b[39m)])\n\u001b[0;32m----> 3\u001b[0m sns\u001b[39m.\u001b[39;49mpairplot(components_df, hue \u001b[39m=\u001b[39;49m log_data[\u001b[39m'\u001b[39;49m\u001b[39mValorcomercial\u001b[39;49m\u001b[39m'\u001b[39;49m])\n",
      "File \u001b[0;32m~/Documents/Code/hackathonBBVA/venv/lib/python3.10/site-packages/seaborn/axisgrid.py:2114\u001b[0m, in \u001b[0;36mpairplot\u001b[0;34m(data, hue, hue_order, palette, vars, x_vars, y_vars, kind, diag_kind, markers, height, aspect, corner, dropna, plot_kws, diag_kws, grid_kws, size)\u001b[0m\n\u001b[1;32m   2112\u001b[0m \u001b[39m# Set up the PairGrid\u001b[39;00m\n\u001b[1;32m   2113\u001b[0m grid_kws\u001b[39m.\u001b[39msetdefault(\u001b[39m\"\u001b[39m\u001b[39mdiag_sharey\u001b[39m\u001b[39m\"\u001b[39m, diag_kind \u001b[39m==\u001b[39m \u001b[39m\"\u001b[39m\u001b[39mhist\u001b[39m\u001b[39m\"\u001b[39m)\n\u001b[0;32m-> 2114\u001b[0m grid \u001b[39m=\u001b[39m PairGrid(data, \u001b[39mvars\u001b[39;49m\u001b[39m=\u001b[39;49m\u001b[39mvars\u001b[39;49m, x_vars\u001b[39m=\u001b[39;49mx_vars, y_vars\u001b[39m=\u001b[39;49my_vars, hue\u001b[39m=\u001b[39;49mhue,\n\u001b[1;32m   2115\u001b[0m                 hue_order\u001b[39m=\u001b[39;49mhue_order, palette\u001b[39m=\u001b[39;49mpalette, corner\u001b[39m=\u001b[39;49mcorner,\n\u001b[1;32m   2116\u001b[0m                 height\u001b[39m=\u001b[39;49mheight, aspect\u001b[39m=\u001b[39;49maspect, dropna\u001b[39m=\u001b[39;49mdropna, \u001b[39m*\u001b[39;49m\u001b[39m*\u001b[39;49mgrid_kws)\n\u001b[1;32m   2118\u001b[0m \u001b[39m# Add the markers here as PairGrid has figured out how many levels of the\u001b[39;00m\n\u001b[1;32m   2119\u001b[0m \u001b[39m# hue variable are needed and we don't want to duplicate that process\u001b[39;00m\n\u001b[1;32m   2120\u001b[0m \u001b[39mif\u001b[39;00m markers \u001b[39mis\u001b[39;00m \u001b[39mnot\u001b[39;00m \u001b[39mNone\u001b[39;00m:\n",
      "File \u001b[0;32m~/Documents/Code/hackathonBBVA/venv/lib/python3.10/site-packages/seaborn/axisgrid.py:1246\u001b[0m, in \u001b[0;36mPairGrid.__init__\u001b[0;34m(self, data, hue, vars, x_vars, y_vars, hue_order, palette, hue_kws, corner, diag_sharey, height, aspect, layout_pad, despine, dropna)\u001b[0m\n\u001b[1;32m   1244\u001b[0m \u001b[39m# Sort out the variables that define the grid\u001b[39;00m\n\u001b[1;32m   1245\u001b[0m numeric_cols \u001b[39m=\u001b[39m \u001b[39mself\u001b[39m\u001b[39m.\u001b[39m_find_numeric_cols(data)\n\u001b[0;32m-> 1246\u001b[0m \u001b[39mif\u001b[39;00m hue \u001b[39min\u001b[39;49;00m numeric_cols:\n\u001b[1;32m   1247\u001b[0m     numeric_cols\u001b[39m.\u001b[39mremove(hue)\n\u001b[1;32m   1248\u001b[0m \u001b[39mif\u001b[39;00m \u001b[39mvars\u001b[39m \u001b[39mis\u001b[39;00m \u001b[39mnot\u001b[39;00m \u001b[39mNone\u001b[39;00m:\n",
      "File \u001b[0;32m~/Documents/Code/hackathonBBVA/venv/lib/python3.10/site-packages/pandas/core/generic.py:1527\u001b[0m, in \u001b[0;36mNDFrame.__nonzero__\u001b[0;34m(self)\u001b[0m\n\u001b[1;32m   1525\u001b[0m \u001b[39m@final\u001b[39m\n\u001b[1;32m   1526\u001b[0m \u001b[39mdef\u001b[39;00m \u001b[39m__nonzero__\u001b[39m(\u001b[39mself\u001b[39m):\n\u001b[0;32m-> 1527\u001b[0m     \u001b[39mraise\u001b[39;00m \u001b[39mValueError\u001b[39;00m(\n\u001b[1;32m   1528\u001b[0m         \u001b[39mf\u001b[39m\u001b[39m\"\u001b[39m\u001b[39mThe truth value of a \u001b[39m\u001b[39m{\u001b[39;00m\u001b[39mtype\u001b[39m(\u001b[39mself\u001b[39m)\u001b[39m.\u001b[39m\u001b[39m__name__\u001b[39m\u001b[39m}\u001b[39;00m\u001b[39m is ambiguous. \u001b[39m\u001b[39m\"\u001b[39m\n\u001b[1;32m   1529\u001b[0m         \u001b[39m\"\u001b[39m\u001b[39mUse a.empty, a.bool(), a.item(), a.any() or a.all().\u001b[39m\u001b[39m\"\u001b[39m\n\u001b[1;32m   1530\u001b[0m     )\n",
      "\u001b[0;31mValueError\u001b[0m: The truth value of a Series is ambiguous. Use a.empty, a.bool(), a.item(), a.any() or a.all()."
     ]
    }
   ],
   "source": [
    "#components_df = pd.DataFrame(components, columns=['PC '+ str(i) + ' ' + '({:.2f}%)'.format(pca.explained_variance_ratio_[i]*100) for i in range(15)])\n",
    "\n",
    "#sns.pairplot(components_df, hue = log_data['Valorcomercial'])"
   ]
  },
  {
   "cell_type": "code",
   "execution_count": null,
   "metadata": {},
   "outputs": [],
   "source": []
  }
 ],
 "metadata": {
  "kernelspec": {
   "display_name": "Python 3.10.7 ('venv': venv)",
   "language": "python",
   "name": "python3"
  },
  "language_info": {
   "codemirror_mode": {
    "name": "ipython",
    "version": 3
   },
   "file_extension": ".py",
   "mimetype": "text/x-python",
   "name": "python",
   "nbconvert_exporter": "python",
   "pygments_lexer": "ipython3",
   "version": "3.10.8"
  },
  "orig_nbformat": 4,
  "vscode": {
   "interpreter": {
    "hash": "0198e78fcb23270f2f1a434797316f5c7d17439b897a09cc3cdde74d7b192a6e"
   }
  }
 },
 "nbformat": 4,
 "nbformat_minor": 2
}
